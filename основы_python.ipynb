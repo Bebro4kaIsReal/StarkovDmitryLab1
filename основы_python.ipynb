{
  "cells": [
    {
      "cell_type": "markdown",
      "metadata": {
        "id": "M-DGa20PaHnu"
      },
      "source": [
        "#Задача 1\n",
        "Написать функцию на вход которой подается строка, состоящая из латинских букв.\n",
        "Функция должна вернуть количество гласных букв (a, e, i, o, u) в этой строке. Написать тесты для кода"
      ]
    },
    {
      "cell_type": "code",
      "execution_count": 4,
      "metadata": {
        "id": "XvX8X_JJ6PCb"
      },
      "outputs": [],
      "source": [
        "def Func1(string):\n",
        "    mazfk = 'aeiou'\n",
        "    result=0\n",
        "    for i in string:\n",
        "        if (i in mazfk):\n",
        "            result+=1\n",
        "    return result\n",
        "assert Func1('mazafaka')\n",
        "assert Func1('bebra')\n",
        "assert Func1('aeiou')"
      ]
    },
    {
      "cell_type": "markdown",
      "metadata": {
        "id": "t2ClV_Y0bbr6"
      },
      "source": [
        "# Задача 2\n",
        "Написать функцию на вход, которой подается строка. Функция должна вернуть true, если\n",
        "каждый символ в строке встречается только 1 раз, иначе должна вернуть false. Написать тесты для кода"
      ]
    },
    {
      "cell_type": "code",
      "execution_count": 6,
      "metadata": {
        "id": "FppbECao6VIz"
      },
      "outputs": [],
      "source": [
        "def Func1(string):\n",
        "    for i in string:\n",
        "        if (string.count(i)>1):\n",
        "            return False\n",
        "    return True\n",
        "assert Func1('da')\n",
        "assert Func1('aboba')== False\n",
        "assert Func1('bedra')"
      ]
    },
    {
      "cell_type": "markdown",
      "metadata": {
        "id": "udRiIK1cdt6E"
      },
      "source": [
        "# Задача 3\n",
        "Написать функцию, которая принимает положительное число и возвращает количество\n",
        "бит равных 1 в этом числе. Написать тесты для кода"
      ]
    },
    {
      "cell_type": "code",
      "execution_count": 9,
      "metadata": {
        "id": "6tkfDJRz6dp_"
      },
      "outputs": [],
      "source": [
        "def Func1(num):\n",
        "    return bin(num).count('1')\n",
        "assert Func1(0) == 0\n",
        "assert Func1(1) == 1\n",
        "assert Func1(2) == 1\n",
        "assert Func1(3) == 2\n",
        "assert Func1(4) == 1\n",
        "assert Func1(7) == 3\n",
        "assert Func1(15) == 4\n",
        "assert Func1(1023) == 10\n"
      ]
    },
    {
      "cell_type": "markdown",
      "metadata": {
        "id": "26dDUz-Ae17N"
      },
      "source": [
        "# Задача 4\n",
        "Написать функцию, которая принимает положительное число. Функция должна вернуть то,\n",
        "сколько раз необходимо перемножать цифры числа или результат перемножения, чтобы\n",
        "получилось число состоящее из одной цифры.\n",
        "Например, для входного числа:\n",
        "· 39 функция должна вернуть 3, так как 3*9=27 => 2*7=14 => 1*4=4\n",
        "· 4 функция должна вернуть 0, так как число уже состоит из одной цифры\n",
        "· 999 функция должна вернуть 4, так как 9*9*9=729 => 7*2*9=126 => 1*2*6=12 =>\n",
        "1*2=2. Написать тесты для кода"
      ]
    },
    {
      "cell_type": "code",
      "execution_count": 14,
      "metadata": {
        "id": "BH1A_Mgi6i4G"
      },
      "outputs": [],
      "source": [
        "def Func1(n):\n",
        "    count = 0\n",
        "    while n >= 10:\n",
        "        result = 1\n",
        "        for digit in str(n):\n",
        "            result *= int(digit)\n",
        "        n = result\n",
        "        count += 1\n",
        "    \n",
        "    return count\n",
        "\n",
        "assert Func1(39) == 3        \n",
        "assert Func1(4) == 0\n",
        "assert Func1(999) == 4\n",
        "assert Func1(25) == 2\n",
        "assert Func1(1) == 0"
      ]
    },
    {
      "cell_type": "markdown",
      "metadata": {
        "id": "0nS-kIa8g8vd"
      },
      "source": [
        "# Задача 5\n",
        "Написать функцию, которая принимает два целочисленных вектора одинаковой длины и\n",
        "возвращает среднеквадратическое отклонение двух векторов. Написать тесты для кода"
      ]
    },
    {
      "cell_type": "code",
      "execution_count": 10,
      "metadata": {
        "id": "8iphx4LM6xbx"
      },
      "outputs": [],
      "source": [
        "import math\n",
        "\n",
        "def mse(vector1, vector2):\n",
        "    if len(vector1) != len(vector2):\n",
        "        return Exception\n",
        "    sum_of_squares = sum((x - y) ** 2 for x, y in zip(vector1, vector2))\n",
        "    return math.sqrt(sum_of_squares / len(vector1))\n",
        "assert mse([1, 2, 3], [1, 2, 3]) == 0.0\n",
        "assert mse([1, 2, 3], [4, 5, 6]) == math.sqrt(9.0)\n",
        "assert mse([1, 2, 3, 4], [1, 2, 2, 4]) == math.sqrt(0.25)\n",
        "assert mse([10, 20, 30], [13, 23, 33]) == math.sqrt(9.0)\n",
        "assert mse([-1, -2, -3], [-4, -5, -6]) == math.sqrt(9.0)\n",
        "assert mse([0, 0, 0], [0, 0, 0]) == 0.0"
      ]
    },
    {
      "cell_type": "markdown",
      "metadata": {
        "id": "vpIPKL439zkw"
      },
      "source": [
        "# Задача 6\n",
        "Написать функцию, принимающая целое положительное число. Функция должна вернуть\n",
        "строку вида “(n1**p1)(n2**p2)…(nk**pk)” представляющая разложение числа на простые\n",
        "множители (если pi == 1, то выводить только ni).\n",
        "Например, для числа 86240 функция должна вернуть “(2**5)(5)(7**2)(11)”. Написать тесты для кода"
      ]
    },
    {
      "cell_type": "code",
      "execution_count": 16,
      "metadata": {
        "id": "pFebmcZk94Jw"
      },
      "outputs": [],
      "source": [
        "from collections import defaultdict\n",
        "\n",
        "def Func1(n):\n",
        "    factors = defaultdict(int)\n",
        "    divisor = 2\n",
        "\n",
        "    while n > 1:\n",
        "        if n % divisor == 0:\n",
        "            factors[divisor] += 1\n",
        "            n //= divisor\n",
        "        else:\n",
        "            divisor += 1\n",
        "\n",
        "    result = \"\".join(\n",
        "        f\"({factor}**{power})\" if power > 1 else f\"({factor})\"\n",
        "        for factor, power in sorted(factors.items())\n",
        "    )\n",
        "    \n",
        "    return result\n",
        "assert Func1(86240) == \"(2**5)(5)(7**2)(11)\"\n",
        "assert Func1(60) == \"(2**2)(3)(5)\"\n",
        "assert Func1(17) == \"(17)\"\n",
        "assert Func1(360) == \"(2**3)(3**2)(5)\"\n",
        "assert Func1(100) == \"(2**2)(5**2)\"\n",
        "assert Func1(1) == \"\""
      ]
    },
    {
      "cell_type": "markdown",
      "metadata": {
        "id": "ps2s0BudX7A2"
      },
      "source": [
        "# Задача 7\n",
        "Написать функцию, принимающая целое число n, задающее количество кубиков. Функция\n",
        "должна определить, можно ли из данного кол-ва кубиков построить пирамиду, то есть\n",
        "можно ли представить число n как 1^2+2^2+3^2+…+k^2. Если можно, то функция должна\n",
        "вернуть k, иначе строку “It is impossible”. Написать тесты для кода"
      ]
    },
    {
      "cell_type": "code",
      "execution_count": 23,
      "metadata": {
        "id": "3YPjEXxhX_YT"
      },
      "outputs": [],
      "source": [
        "def pyramid(n):\n",
        "    total = 0\n",
        "    k = 0\n",
        "    while total < n:\n",
        "        k += 1\n",
        "        total += k ** 2\n",
        "    if total == n:\n",
        "        return k\n",
        "    else:\n",
        "        return \"It is impossible\"\n",
        "    \n",
        "assert pyramid(14) == 3\n",
        "assert pyramid(30) == 4\n",
        "assert pyramid(1) == 1\n",
        "assert pyramid(55) == 5\n",
        "assert pyramid(140) == 7\n",
        "assert pyramid(15) == \"It is impossible\""
      ]
    },
    {
      "cell_type": "markdown",
      "metadata": {
        "id": "KeKgmIdAQMEJ"
      },
      "source": [
        "# Задача 8\n",
        "Функция принимает на вход положительное число и определяет является ли оно сбалансированным, т.е. сумма цифр до средних равна сумме цифр после. Средними в случае нечетного числа цифр считать одну цифру, в случае четного - две средних. Написать тесты для кода"
      ]
    },
    {
      "cell_type": "code",
      "execution_count": 24,
      "metadata": {
        "id": "gMAAqtqlQrZt"
      },
      "outputs": [],
      "source": [
        "def is_balanced_number(n):\n",
        "    digits = str(n)\n",
        "    length = len(digits)\n",
        "    \n",
        "    if length % 2 == 0:\n",
        "        left_part = digits[:length // 2 - 1]\n",
        "        right_part = digits[length // 2 + 1:]\n",
        "    else:\n",
        "        left_part = digits[:length // 2]\n",
        "        right_part = digits[length // 2 + 1:]\n",
        "    \n",
        "    left_sum = sum(int(digit) for digit in left_part)\n",
        "    right_sum = sum(int(digit) for digit in right_part)\n",
        "\n",
        "    return left_sum == right_sum\n",
        "assert is_balanced_number(123321) == True\n",
        "assert is_balanced_number(12321) == True\n",
        "assert is_balanced_number(1221) == True\n",
        "assert is_balanced_number(123456) == False\n",
        "assert is_balanced_number(1) == True\n",
        "assert is_balanced_number(1111) == True\n",
        "assert is_balanced_number(12345) == False"
      ]
    }
  ],
  "metadata": {
    "colab": {
      "provenance": []
    },
    "kernelspec": {
      "display_name": "Python 3",
      "name": "python3"
    },
    "language_info": {
      "codemirror_mode": {
        "name": "ipython",
        "version": 3
      },
      "file_extension": ".py",
      "mimetype": "text/x-python",
      "name": "python",
      "nbconvert_exporter": "python",
      "pygments_lexer": "ipython3",
      "version": "3.12.0"
    }
  },
  "nbformat": 4,
  "nbformat_minor": 0
}
